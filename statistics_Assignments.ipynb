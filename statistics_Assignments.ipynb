{
 "cells": [
  {
   "cell_type": "markdown",
   "id": "962406a0",
   "metadata": {},
   "source": [
    "# Que 1) Plot a histogram,10, 13, 18, 22, 27, 32, 38, 40, 45, 51, 56, 57, 88, 90, 92, 94, 99\n",
    "\n"
   ]
  },
  {
   "cell_type": "code",
   "execution_count": 3,
   "id": "8c37e368",
   "metadata": {},
   "outputs": [
    {
     "data": {
      "image/png": "[encoded data removed]",
      "text/plain": [
       "<Figure size 640x480 with 1 Axes>"
      ]
     },
     "metadata": {},
     "output_type": "display_data"
    }
   ],
   "source": [
    "import matplotlib.pyplot as plt\n",
    "\n",
    "data = [10, 13, 18, 22, 27, 32, 38, 40, 45, 51, 56, 57, 88, 90, 92, 94, 99]\n",
    "\n",
    "plt.hist(data, bins=10)\n",
    "plt.xlabel('Value')\n",
    "plt.ylabel('Frequency')\n",
    "plt.title('Histogram')\n",
    "plt.show()\n"
   ]
  },
  {
   "cell_type": "markdown",
   "id": "dbdbcf24",
   "metadata": {},
   "source": [
    "# Que 2) In a quant test of the CAT Exam, the population standard deviation is known to be 100. A sample of 25 tests taken has a mean of 520. Construct an 80% CI about the mean ?\n"
   ]
  },
  {
   "cell_type": "markdown",
   "id": "f50a033a",
   "metadata": {},
   "source": [
    "To construct an 80% confidence interval (CI) about the mean for the given sample of 25 tests, we can use the following formula:\n",
    "\n",
    "Confidence Interval = mean ± (critical value * standard deviation / sqrt(sample size))\n",
    "\n",
    "Since the population standard deviation is known to be 100 and the sample size is 25, we can calculate the confidence interval as follows:\n",
    "\n",
    "Step 1: Find the critical value corresponding to an 80% confidence level. This can be done using a Z-table or a statistical calculator. For an 80% confidence level, the critical value is approximately 1.282.\n",
    "\n",
    "Step 2: Calculate the standard error of the mean, which is the standard deviation divided by the square root of the sample size:\n",
    "Standard Error = 100 / sqrt(25) = 100 / 5 = 20.\n",
    "\n",
    "Step 3: Calculate the lower and upper bounds of the confidence interval:\n",
    "Lower Bound = 520 - (1.282 * 20) = 520 - 25.64 = 494.36\n",
    "Upper Bound = 520 + (1.282 * 20) = 520 + 25.64 = 545.64\n",
    "\n",
    "The 80% confidence interval about the mean is (494.36, 545.64).\n",
    "\n",
    "This means that we are 80% confident that the true population mean falls within this interval based on the given sample of 25 tests."
   ]
  },
  {
   "cell_type": "markdown",
   "id": "85da3653",
   "metadata": {},
   "source": [
    "# Que3) A car believes that the percentage of citizens in city ABC that owns a vehicle is 60% or less. A sales manager disagrees with this. He conducted a hypothesis testing surveying 250 residents & found that 170 residents responded yes to owning a vehicle. State the null & alternate hypothesis. At a 10% significance level, is there enough evidence to support the idea that vehicle owner in ABC city is 60% or less.\n"
   ]
  },
  {
   "cell_type": "markdown",
   "id": "1eb1415a",
   "metadata": {},
   "source": [
    "The hypothesis testing scenario can be stated as follows:\n",
    "\n",
    "Null Hypothesis (H0): The percentage of citizens in city ABC that owns a vehicle is 60% or less.\n",
    "Alternate Hypothesis (H1): The percentage of citizens in city ABC that owns a vehicle is greater than 60%.\n",
    "\n",
    "To determine if there is enough evidence to support the idea that vehicle owners in ABC city is 60% or less, we need to conduct a hypothesis test using the survey results.\n",
    "\n",
    "Since the sales manager conducted a survey and obtained a sample of 250 residents, and out of those, 170 responded yes to owning a vehicle, we can calculate the sample proportion as follows:\n",
    "\n",
    "Sample Proportion (p̂) = Number of \"Yes\" responses / Sample size = 170/250 = 0.68\n",
    "\n",
    "We can now perform a hypothesis test using this sample proportion. We'll use the one-sample proportion z-test since we have a single sample and want to compare it to a specific value (60%).\n",
    "\n",
    "The test statistic (z-score) can be calculated as:\n",
    "\n",
    "z = (p̂ - p) / sqrt((p * (1 - p)) / n)\n",
    "\n",
    "where p is the hypothesized population proportion (0.6), n is the sample size (250), and p̂ is the sample proportion.\n",
    "\n",
    "Substituting the values into the formula, we get:\n",
    "\n",
    "z = (0.68 - 0.6) / sqrt((0.6 * (1 - 0.6)) / 250) ≈ 2.21\n",
    "\n",
    "At a 10% significance level, the critical value for a one-tailed test is approximately 1.28 (corresponding to a 90% confidence level).\n",
    "\n",
    "Since the calculated z-score (2.21) is greater than the critical value (1.28), we can reject the null hypothesis. This means that there is enough evidence to support the idea that the percentage of vehicle owners in ABC city is greater than 60% at a 10% significance level.\n",
    "\n",
    "Please note that this analysis assumes that the survey was conducted randomly and the sample is representative of the population in city ABC. Additionally, the results of this hypothesis test are specific to the given sample and should not be generalized to the entire population without further study."
   ]
  },
  {
   "cell_type": "markdown",
   "id": "32d7b802",
   "metadata": {},
   "source": [
    "# Que 4) What is the value of the 99 percentile? 2,2,3,4,5,5,5,6,7,8,8,8,8,8,9,9,10,11,11,12\n"
   ]
  },
  {
   "cell_type": "markdown",
   "id": "895c7251",
   "metadata": {},
   "source": [
    "To find the value of the 99th percentile in the given dataset [2, 2, 3, 4, 5, 5, 5, 6, 7, 8, 8, 8, 8, 8, 9, 9, 10, 11, 11, 12], we can follow these steps:\n",
    "\n",
    "Step 1: Sort the dataset in ascending order:\n",
    "[2, 2, 3, 4, 5, 5, 5, 6, 7, 8, 8, 8, 8, 8, 9, 9, 10, 11, 11, 12]\n",
    "\n",
    "Step 2: Calculate the index of the percentile using the formula:\n",
    "Index = (Percentile / 100) * (N + 1)\n",
    "where Percentile is 99 and N is the total number of data points.\n",
    "\n",
    "In this case, N = 20, so the index of the 99th percentile is:\n",
    "Index = (99 / 100) * (20 + 1) = 0.99 * 21 = 20.79\n",
    "\n",
    "Step 3: Identify the value at or just below the calculated index. Since the index is not a whole number, we will take the value at the 20th position as the 99th percentile value.\n",
    "\n",
    "The 20th position corresponds to the value 11.\n",
    "\n",
    "Therefore, the value of the 99th percentile in the given dataset is 11."
   ]
  },
  {
   "cell_type": "markdown",
   "id": "8d860324",
   "metadata": {},
   "source": [
    "# Que 5) In left & right-skewed data, what is the relationship between mean, median & mode? Draw the graph to represent the same.\n"
   ]
  },
  {
   "cell_type": "markdown",
   "id": "0fdcf0eb",
   "metadata": {},
   "source": [
    "In left-skewed data, the mean is typically less than the median, and the median is usually less than the mode. This is because the tail of the distribution is elongated towards the left, pulling the mean to the left of the median and the mode.\n",
    "\n",
    "In right-skewed data, the mean is typically greater than the median, and the median is usually greater than the mode. This is because the tail of the distribution is elongated towards the right, pulling the mean to the right of the median and the mode.\n",
    "\n",
    "Here is a visual representation of the relationship between mean, median, and mode in left-skewed and right-skewed data:\n",
    "\n",
    "Left-Skewed Data:\n",
    "```\n",
    "         mode\n",
    "          |\n",
    "          |\n",
    "          |               median\n",
    "          |              /\n",
    "          |             /\n",
    "          |            /\n",
    "          |           /\n",
    "          |          /\n",
    "          |         /\n",
    "          |        /\n",
    "          |       /\n",
    "          |      /\n",
    "          |     /\n",
    "          |    /\n",
    "          |   /\n",
    "          |  /\n",
    "          | /\n",
    "----------|----------------------\n",
    "          |_____________________ mean\n",
    "```\n",
    "\n",
    "Right-Skewed Data:\n",
    "```\n",
    "                  mode\n",
    "                    |\n",
    "                    |\n",
    "               median\n",
    "                 \\\n",
    "                  \\\n",
    "                   \\\n",
    "                    \\\n",
    "                     \\\n",
    "                      \\\n",
    "                       \\\n",
    "                        \\\n",
    "                         \\\n",
    "                          \\\n",
    "                           \\\n",
    "                            \\\n",
    "                             \\\n",
    "                              \\\n",
    "                               \\\n",
    "                                \\\n",
    "                                 \\\n",
    "                                  \\\n",
    "                                   \\\n",
    "                                    \\\n",
    "                                     \\\n",
    "                                      \\\n",
    "                                       \\\n",
    "                                        \\\n",
    "                                         \\\n",
    "                                          \\\n",
    "                                           \\\n",
    "                                            \\\n",
    "                                             \\\n",
    "                                              \\\n",
    "                                               \\\n",
    "                                                \\\n",
    "                                                 \\\n",
    "                                                  \\\n",
    "                                                   \\\n",
    "                                                    \\\n",
    "                                                     \\\n",
    "                                                      \\\n",
    "                                                       \\\n",
    "                                                        \\\n",
    "                                                         \\\n",
    "                                                          \\\n",
    "                                                           \\\n",
    "                                                            \\\n",
    "                                                             \\\n",
    "                                                              \\\n",
    "                                                               \\\n",
    "                                                                \\\n",
    "                                                                 \\\n",
    "                                                                  \\\n",
    "                                                                   \\\n",
    "                                                                    \\\n",
    "                                                                     \\\n",
    "                                                                      \\\n",
    "                                                                       \\\n",
    "                                                                        \\\n",
    "                                                                         \\\n",
    "                                                                          \\\n",
    "                                                                           \\\n",
    "                                                                            \\\n",
    "                                                                             \\\n",
    "                                                                              \\\n",
    "                                                                               \\\n",
    "                                                                                \\\n",
    "                                                                                 \\\n",
    "                                                                                  \\\n",
    "                                                                                   \\\n",
    "                                                                                    \\\n",
    "                                                                                     \\\n",
    "                                                                                      \\\n",
    "                                                                                       \\\n",
    "                                                                                        \\\n",
    "                                                                                         \\\n",
    "                                                                                          \\\n",
    "                                                                                           \\\n",
    "                                                                                            \\\n",
    "--------------------------------------------------------------------------------\n",
    "                                                                                          mean\n",
    "```\n",
    "\n",
    "In both cases, the mode represents the peak of the distribution, the median represents the middle value, and the mean represents the average value. The skewed nature of the data affects their relative positions."
   ]
  }
 ],
 "metadata": {
  "kernelspec": {
   "display_name": "Python 3 (ipykernel)",
   "language": "python",
   "name": "python3"
  },
  "language_info": {
   "codemirror_mode": {
    "name": "ipython",
    "version": 3
   },
   "file_extension": ".py",
   "mimetype": "text/x-python",
   "name": "python",
   "nbconvert_exporter": "python",
   "pygments_lexer": "ipython3",
   "version": "3.10.9"
  }
 },
 "nbformat": 4,
 "nbformat_minor": 5
}
